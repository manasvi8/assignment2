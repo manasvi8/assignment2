{
 "cells": [
  {
   "cell_type": "markdown",
   "id": "d359c788-3b98-479b-bdf2-283cfa214f51",
   "metadata": {},
   "source": [
    "1. Calculate the sum, difference, product, and quotient of two numbers."
   ]
  },
  {
   "cell_type": "code",
   "execution_count": 10,
   "id": "40e48647-c9a0-40f1-a4b5-3b043412c905",
   "metadata": {},
   "outputs": [
    {
     "name": "stdout",
     "output_type": "stream",
     "text": [
      "sum= 15\n",
      "difference= 5\n",
      "product= 50\n",
      "quotient = 2.0\n"
     ]
    }
   ],
   "source": [
    "num1=10\n",
    "num2=5\n",
    "sum=num1+num2\n",
    "print(\"sum=\",sum)\n",
    "difference = num1-num2\n",
    "print(\"difference=\",difference)\n",
    "product = num1*num2\n",
    "print(\"product=\",product)\n",
    "quotient = num1/num2\n",
    "print(\"quotient =\",quotient)"
   ]
  },
  {
   "cell_type": "markdown",
   "id": "cdfbddb1-3d72-4150-816d-d8fff475fa7e",
   "metadata": {},
   "source": [
    "2. Perform various assignment operations on a variable."
   ]
  },
  {
   "cell_type": "code",
   "execution_count": 19,
   "id": "8a4612cd-cb09-4c5d-bafd-394374f246b8",
   "metadata": {},
   "outputs": [
    {
     "name": "stdout",
     "output_type": "stream",
     "text": [
      "25\n",
      "25\n",
      "20\n",
      "100\n",
      "20.0\n",
      "20.0\n"
     ]
    }
   ],
   "source": [
    "a=20\n",
    "b=5\n",
    "c=a+b\n",
    "print(c)\n",
    "#a=a+b\n",
    "a+=b\n",
    "print(a)\n",
    "#a=a-b\n",
    "a-=b\n",
    "print(a)\n",
    "#a=a*b\n",
    "a*=b\n",
    "print(a)\n",
    "#a=a/b\n",
    "a/=b\n",
    "print(a)\n",
    "a==b\n",
    "print(a)"
   ]
  },
  {
   "cell_type": "markdown",
   "id": "f55bcf12-ced8-4527-99bf-16f6db2f04b5",
   "metadata": {},
   "source": [
    "3. Compare two numbers and print the results."
   ]
  },
  {
   "cell_type": "code",
   "execution_count": 25,
   "id": "43ada904-e5c9-4874-9eda-516077530734",
   "metadata": {},
   "outputs": [
    {
     "name": "stdout",
     "output_type": "stream",
     "text": [
      "False\n",
      "num2 is greater\n"
     ]
    }
   ],
   "source": [
    "num1=20\n",
    "num2=90\n",
    "print(num1>num2)\n",
    "'''we can also compare number using conditional statements,\n",
    "   as shown below:'''\n",
    "if(num1>num2):\n",
    "    print(\"num1 is greater\")\n",
    "else:\n",
    "     print(\"num2 is greater\")\n",
    "    "
   ]
  },
  {
   "cell_type": "markdown",
   "id": "61c43bb1-76f9-459d-ae60-9c76967da4fb",
   "metadata": {},
   "source": [
    "4. Check conditions using logical operators."
   ]
  },
  {
   "cell_type": "code",
   "execution_count": 39,
   "id": "2effe4da-c4e8-4e37-a167-81c81ae60e14",
   "metadata": {},
   "outputs": [
    {
     "name": "stdout",
     "output_type": "stream",
     "text": [
      "c is greater\n",
      "a is equal to b\n",
      "a and b have equal values\n"
     ]
    }
   ],
   "source": [
    "a=590\n",
    "b=590\n",
    "c=100\n",
    "#and operator\n",
    "if a>b and a>c:\n",
    "    print(\"a is greater\")\n",
    "elif b>a and b>c:\n",
    "    print(\"b is greater\")\n",
    "else:\n",
    "    print(\"c is greater\")\n",
    "#not operator\n",
    "if not a==b:\n",
    "    print(\"a is not equal to b\")\n",
    "else:\n",
    "    print(\"a is equal to b\")\n",
    "#or operator\n",
    "if a==b or b==a:\n",
    "    print(\"a and b have equal values\")\n",
    "else:\n",
    "    print(\"a and b does not have equal value\")\n",
    "    "
   ]
  },
  {
   "cell_type": "markdown",
   "id": "b3828787-1a69-410c-9d6b-e52d4d07235d",
   "metadata": {},
   "source": [
    "5. Check the identity of variables."
   ]
  },
  {
   "cell_type": "code",
   "execution_count": 3,
   "id": "2b278f2b-86ca-4a1e-a94b-b62af1e6d751",
   "metadata": {},
   "outputs": [
    {
     "data": {
      "text/plain": [
       "True"
      ]
     },
     "execution_count": 3,
     "metadata": {},
     "output_type": "execute_result"
    }
   ],
   "source": [
    "a=\"Pw skill\"\n",
    "a=b\n",
    "a is b"
   ]
  },
  {
   "cell_type": "markdown",
   "id": "8e467c4c-2b68-461d-83af-7c8fb56f9a49",
   "metadata": {},
   "source": [
    "6.Perform bitwise operations on any two integers."
   ]
  },
  {
   "cell_type": "code",
   "execution_count": 10,
   "id": "c0ad8592-9d52-4f79-8a8d-6dd5df123ac9",
   "metadata": {},
   "outputs": [
    {
     "name": "stdout",
     "output_type": "stream",
     "text": [
      "by using and operator values are: 2\n",
      "by using or operator values are: 11\n",
      "by using xor operator values are: 9\n",
      "negation is: -11\n",
      "by using lest shift operator values are: 80\n",
      "by using right shift operator values are: 1\n"
     ]
    }
   ],
   "source": [
    "#and operator\n",
    "a=10\n",
    "b=3\n",
    "print(\"by using and operator values are:\",a&b)\n",
    "#or operator\n",
    "print(\"by using or operator values are:\",a|b)\n",
    "#xor operator\n",
    "print(\"by using xor operator values are:\",a^b)\n",
    "#negation operator\n",
    "print(\"negation is:\",~a)\n",
    "#left shift operator\n",
    "print(\"by using lest shift operator values are:\",a<<b)\n",
    "#right shift operator\n",
    "print(\"by using right shift operator values are:\",a>>b)\n"
   ]
  },
  {
   "cell_type": "markdown",
   "id": "df858b76-620b-4842-8b1a-576fed398ae4",
   "metadata": {},
   "source": [
    "7.Use unary operators to change the sign of a number."
   ]
  },
  {
   "cell_type": "code",
   "execution_count": 11,
   "id": "9c2287ad-1fb1-4313-b970-c4238ee3670f",
   "metadata": {},
   "outputs": [
    {
     "name": "stdout",
     "output_type": "stream",
     "text": [
      "-10\n"
     ]
    }
   ],
   "source": [
    "a=10\n",
    "b=-a\n",
    "print(b)"
   ]
  },
  {
   "cell_type": "markdown",
   "id": "4b2cbeb8-540c-4f6b-8c13-243dac924fa4",
   "metadata": {},
   "source": [
    "8. Use ternary operators to assign values based on conditions."
   ]
  },
  {
   "cell_type": "code",
   "execution_count": 14,
   "id": "15422411-648c-42ca-a6f5-16340a46f552",
   "metadata": {},
   "outputs": [
    {
     "name": "stdout",
     "output_type": "stream",
     "text": [
      "Result: pass\n"
     ]
    }
   ],
   "source": [
    "percentage=75\n",
    "result=\"pass\" if percentage>=40 else \"fail\"\n",
    "print(\"Result:\",result)"
   ]
  },
  {
   "cell_type": "code",
   "execution_count": null,
   "id": "6fa247a9-11df-4472-8360-0ca2f3e0c1e0",
   "metadata": {},
   "outputs": [],
   "source": []
  }
 ],
 "metadata": {
  "kernelspec": {
   "display_name": "Python 3 (ipykernel)",
   "language": "python",
   "name": "python3"
  },
  "language_info": {
   "codemirror_mode": {
    "name": "ipython",
    "version": 3
   },
   "file_extension": ".py",
   "mimetype": "text/x-python",
   "name": "python",
   "nbconvert_exporter": "python",
   "pygments_lexer": "ipython3",
   "version": "3.10.8"
  }
 },
 "nbformat": 4,
 "nbformat_minor": 5
}
